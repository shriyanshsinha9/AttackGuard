{
  "cells": [
    {
      "cell_type": "code",
      "execution_count": null,
      "id": "b6e8b2f6",
      "metadata": {
        "id": "b6e8b2f6"
      },
      "outputs": [],
      "source": [
        "import pandas as pd\n",
        "import numpy as np\n",
        "from sklearn.model_selection import train_test_split\n",
        "from sklearn.preprocessing import LabelEncoder\n",
        "from sklearn.impute import SimpleImputer\n",
        "from sklearn.ensemble import RandomForestRegressor\n",
        "from sklearn.preprocessing import StandardScaler\n",
        "from keras.models import Sequential\n",
        "from keras.layers import Dense\n",
        "from keras.layers import Dropout\n",
        "from sklearn.metrics import confusion_matrix\n",
        "from sklearn.metrics import accuracy_score, precision_score, recall_score, f1_score"
      ]
    },
    {
      "cell_type": "code",
      "execution_count": null,
      "id": "a65004a8",
      "metadata": {
        "id": "a65004a8"
      },
      "outputs": [],
      "source": [
        "data = pd.read_csv('combined_data.csv')\n",
        "le = LabelEncoder()\n",
        "label=le.fit_transform(data['Protocol'])\n",
        "data['Protocol']=label"
      ]
    },
    {
      "cell_type": "code",
      "execution_count": null,
      "id": "71ac1f2a",
      "metadata": {
        "id": "71ac1f2a"
      },
      "outputs": [],
      "source": [
        "data = data.drop(data.columns[0], axis=1)"
      ]
    },
    {
      "cell_type": "code",
      "execution_count": null,
      "id": "b4ab03e2",
      "metadata": {
        "id": "b4ab03e2",
        "outputId": "d9142c56-885c-40b4-fe11-90baa37625aa"
      },
      "outputs": [
        {
          "data": {
            "text/html": [
              "<div>\n",
              "<style scoped>\n",
              "    .dataframe tbody tr th:only-of-type {\n",
              "        vertical-align: middle;\n",
              "    }\n",
              "\n",
              "    .dataframe tbody tr th {\n",
              "        vertical-align: top;\n",
              "    }\n",
              "\n",
              "    .dataframe thead th {\n",
              "        text-align: right;\n",
              "    }\n",
              "</style>\n",
              "<table border=\"1\" class=\"dataframe\">\n",
              "  <thead>\n",
              "    <tr style=\"text-align: right;\">\n",
              "      <th></th>\n",
              "      <th>Time</th>\n",
              "      <th>Protocol</th>\n",
              "      <th>Length</th>\n",
              "      <th>Target</th>\n",
              "    </tr>\n",
              "  </thead>\n",
              "  <tbody>\n",
              "    <tr>\n",
              "      <th>count</th>\n",
              "      <td>3.172390e+05</td>\n",
              "      <td>317239.000000</td>\n",
              "      <td>317239.000000</td>\n",
              "      <td>317239.000000</td>\n",
              "    </tr>\n",
              "    <tr>\n",
              "      <th>mean</th>\n",
              "      <td>6.745880e+01</td>\n",
              "      <td>14.254222</td>\n",
              "      <td>492.194393</td>\n",
              "      <td>0.945650</td>\n",
              "    </tr>\n",
              "    <tr>\n",
              "      <th>std</th>\n",
              "      <td>1.916876e+02</td>\n",
              "      <td>3.108322</td>\n",
              "      <td>952.918346</td>\n",
              "      <td>0.226708</td>\n",
              "    </tr>\n",
              "    <tr>\n",
              "      <th>min</th>\n",
              "      <td>3.610000e-07</td>\n",
              "      <td>0.000000</td>\n",
              "      <td>42.000000</td>\n",
              "      <td>0.000000</td>\n",
              "    </tr>\n",
              "    <tr>\n",
              "      <th>25%</th>\n",
              "      <td>5.406614e-01</td>\n",
              "      <td>14.000000</td>\n",
              "      <td>66.000000</td>\n",
              "      <td>1.000000</td>\n",
              "    </tr>\n",
              "    <tr>\n",
              "      <th>50%</th>\n",
              "      <td>1.879724e+00</td>\n",
              "      <td>14.000000</td>\n",
              "      <td>74.000000</td>\n",
              "      <td>1.000000</td>\n",
              "    </tr>\n",
              "    <tr>\n",
              "      <th>75%</th>\n",
              "      <td>5.238090e+01</td>\n",
              "      <td>17.000000</td>\n",
              "      <td>1152.000000</td>\n",
              "      <td>1.000000</td>\n",
              "    </tr>\n",
              "    <tr>\n",
              "      <th>max</th>\n",
              "      <td>9.699905e+02</td>\n",
              "      <td>17.000000</td>\n",
              "      <td>44954.000000</td>\n",
              "      <td>1.000000</td>\n",
              "    </tr>\n",
              "  </tbody>\n",
              "</table>\n",
              "</div>"
            ],
            "text/plain": [
              "               Time       Protocol         Length         Target\n",
              "count  3.172390e+05  317239.000000  317239.000000  317239.000000\n",
              "mean   6.745880e+01      14.254222     492.194393       0.945650\n",
              "std    1.916876e+02       3.108322     952.918346       0.226708\n",
              "min    3.610000e-07       0.000000      42.000000       0.000000\n",
              "25%    5.406614e-01      14.000000      66.000000       1.000000\n",
              "50%    1.879724e+00      14.000000      74.000000       1.000000\n",
              "75%    5.238090e+01      17.000000    1152.000000       1.000000\n",
              "max    9.699905e+02      17.000000   44954.000000       1.000000"
            ]
          },
          "execution_count": 15,
          "metadata": {},
          "output_type": "execute_result"
        }
      ],
      "source": [
        "data.describe()"
      ]
    },
    {
      "cell_type": "code",
      "execution_count": null,
      "id": "1c36c1f7",
      "metadata": {
        "id": "1c36c1f7"
      },
      "outputs": [],
      "source": [
        "data=data.dropna()\n"
      ]
    },
    {
      "cell_type": "code",
      "execution_count": null,
      "id": "9262d723",
      "metadata": {
        "id": "9262d723",
        "outputId": "37c82af1-d783-47e7-ae0c-2a69a80373e9"
      },
      "outputs": [
        {
          "name": "stderr",
          "output_type": "stream",
          "text": [
            "C:\\Users\\91810\\AppData\\Local\\Temp\\ipykernel_11032\\184011309.py:1: FutureWarning: The default value of numeric_only in DataFrame.corr is deprecated. In a future version, it will default to False. Select only valid columns or specify the value of numeric_only to silence this warning.\n",
            "  corr_matrix = data.corr()\n"
          ]
        },
        {
          "data": {
            "text/html": [
              "<div>\n",
              "<style scoped>\n",
              "    .dataframe tbody tr th:only-of-type {\n",
              "        vertical-align: middle;\n",
              "    }\n",
              "\n",
              "    .dataframe tbody tr th {\n",
              "        vertical-align: top;\n",
              "    }\n",
              "\n",
              "    .dataframe thead th {\n",
              "        text-align: right;\n",
              "    }\n",
              "</style>\n",
              "<table border=\"1\" class=\"dataframe\">\n",
              "  <thead>\n",
              "    <tr style=\"text-align: right;\">\n",
              "      <th></th>\n",
              "      <th>Time</th>\n",
              "      <th>Protocol</th>\n",
              "      <th>Length</th>\n",
              "      <th>Target</th>\n",
              "    </tr>\n",
              "  </thead>\n",
              "  <tbody>\n",
              "    <tr>\n",
              "      <th>Time</th>\n",
              "      <td>1.000000</td>\n",
              "      <td>-0.167834</td>\n",
              "      <td>-0.047586</td>\n",
              "      <td>-0.956120</td>\n",
              "    </tr>\n",
              "    <tr>\n",
              "      <th>Protocol</th>\n",
              "      <td>-0.167834</td>\n",
              "      <td>1.000000</td>\n",
              "      <td>-0.156231</td>\n",
              "      <td>0.104349</td>\n",
              "    </tr>\n",
              "    <tr>\n",
              "      <th>Length</th>\n",
              "      <td>-0.047586</td>\n",
              "      <td>-0.156231</td>\n",
              "      <td>1.000000</td>\n",
              "      <td>0.016479</td>\n",
              "    </tr>\n",
              "    <tr>\n",
              "      <th>Target</th>\n",
              "      <td>-0.956120</td>\n",
              "      <td>0.104349</td>\n",
              "      <td>0.016479</td>\n",
              "      <td>1.000000</td>\n",
              "    </tr>\n",
              "  </tbody>\n",
              "</table>\n",
              "</div>"
            ],
            "text/plain": [
              "              Time  Protocol    Length    Target\n",
              "Time      1.000000 -0.167834 -0.047586 -0.956120\n",
              "Protocol -0.167834  1.000000 -0.156231  0.104349\n",
              "Length   -0.047586 -0.156231  1.000000  0.016479\n",
              "Target   -0.956120  0.104349  0.016479  1.000000"
            ]
          },
          "execution_count": 17,
          "metadata": {},
          "output_type": "execute_result"
        }
      ],
      "source": [
        "corr_matrix = data.corr()\n",
        "corr_matrix"
      ]
    },
    {
      "cell_type": "code",
      "execution_count": null,
      "id": "5f7b238f",
      "metadata": {
        "id": "5f7b238f"
      },
      "outputs": [],
      "source": [
        "X = data[['Time','Protocol','Length']]\n",
        "y = data['Target']"
      ]
    },
    {
      "cell_type": "code",
      "execution_count": null,
      "id": "71927af7",
      "metadata": {
        "id": "71927af7"
      },
      "outputs": [],
      "source": [
        "rf = RandomForestRegressor(n_estimators=100, random_state=42)\n",
        "rf.fit(X, y)\n",
        "importances = rf.feature_importances_\n",
        "indices = sorted(range(len(importances)), key=lambda i: importances[i], reverse=True)"
      ]
    },
    {
      "cell_type": "code",
      "execution_count": null,
      "id": "080f2c84",
      "metadata": {
        "id": "080f2c84",
        "outputId": "139dddac-a1a3-4501-f582-f6c7cb69b374"
      },
      "outputs": [
        {
          "data": {
            "text/plain": [
              "array([[-0.33721991, -0.45984536],\n",
              "       [-0.33719915, -0.45984536],\n",
              "       [-0.33694828, -0.45984536],\n",
              "       ...,\n",
              "       [-0.33453992,  1.07229252],\n",
              "       [-0.3345398 ,  1.07229252],\n",
              "       [-0.33453965,  1.07229252]])"
            ]
          },
          "execution_count": 9,
          "metadata": {},
          "output_type": "execute_result"
        }
      ],
      "source": [
        "X=data[['Time','Length']]\n",
        "scaler = StandardScaler()\n",
        "X_scaled = scaler.fit_transform(X)\n",
        "X_scaled\n"
      ]
    },
    {
      "cell_type": "code",
      "execution_count": null,
      "id": "88a820e6",
      "metadata": {
        "id": "88a820e6",
        "outputId": "8aff3d1b-34a1-4aba-a9f0-16bc270f66e8"
      },
      "outputs": [
        {
          "data": {
            "text/plain": [
              "array([[0.3372199095369218, '192.168.112.128', '49.44.194.34', 14, 54,\n",
              "        '40492  >  80 [ACK] Seq=1 Ack=1 Win=64008 Len=0'],\n",
              "       [0.3371991473364919, '192.168.112.128', '49.44.194.34', 14, 54,\n",
              "        '40510  >  80 [ACK] Seq=1 Ack=1 Win=63936 Len=0'],\n",
              "       [0.33694828393219456, '192.168.112.128', '152.195.38.76', 14, 54,\n",
              "        '49232  >  80 [ACK] Seq=1 Ack=1 Win=63812 Len=0'],\n",
              "       ...,\n",
              "       [0.3345399221130892, '192.168.112.128', '192.168.112.129', 14,\n",
              "        1514,\n",
              "        '49876  >  80 [ACK] Seq=12450561 Ack=1 Win=501 Len=1448 TSval=1204965619 TSecr=777797 [TCP segment of a reassembled PDU]'],\n",
              "       [0.3345397970135399, '192.168.112.128', '192.168.112.129', 14,\n",
              "        1514,\n",
              "        '52492  >  80 [ACK] Seq=10219313 Ack=1 Win=501 Len=1448 TSval=1204965619 TSecr=777797 [TCP segment of a reassembled PDU]'],\n",
              "       [0.3345396510049417, '192.168.112.128', '192.168.112.129', 14,\n",
              "        1514,\n",
              "        '52456  >  80 [PSH, ACK] Seq=10889281 Ack=1 Win=501 Len=1448 TSval=1204965619 TSecr=777797 [TCP segment of a reassembled PDU]']],\n",
              "      dtype=object)"
            ]
          },
          "execution_count": 19,
          "metadata": {},
          "output_type": "execute_result"
        }
      ],
      "source": [
        "X = data.iloc[:,:-1].values\n",
        "X[:,0]=X_scaled[:,0]*-1\n",
        "X\n"
      ]
    },
    {
      "cell_type": "code",
      "execution_count": null,
      "id": "8a6a20a8",
      "metadata": {
        "id": "8a6a20a8",
        "outputId": "3d4b5bec-158d-4ab8-ed41-4cec073eca3e"
      },
      "outputs": [
        {
          "data": {
            "text/plain": [
              "0         0\n",
              "1         0\n",
              "2         0\n",
              "3         0\n",
              "4         0\n",
              "         ..\n",
              "317234    1\n",
              "317235    1\n",
              "317236    1\n",
              "317237    1\n",
              "317238    1\n",
              "Name: Target, Length: 317239, dtype: int64"
            ]
          },
          "execution_count": 20,
          "metadata": {},
          "output_type": "execute_result"
        }
      ],
      "source": [
        "y\n"
      ]
    },
    {
      "cell_type": "code",
      "execution_count": null,
      "id": "5fec80a4",
      "metadata": {
        "id": "5fec80a4"
      },
      "outputs": [],
      "source": [
        "X_train,X_test,y_train,y_test= train_test_split(X,y,random_state=42,train_size=0.8)\n",
        "X_train = np.asarray(X_train)\n",
        "X_test= np.asarray(X_test)\n",
        "y_train=np.asarray(y_train)\n",
        "y_test=np.asarray(y_test)"
      ]
    },
    {
      "cell_type": "code",
      "execution_count": null,
      "id": "6ea4afa6",
      "metadata": {
        "id": "6ea4afa6"
      },
      "outputs": [],
      "source": [
        "import tensorflow as tf\n",
        "from tensorflow import keras\n",
        "from tensorflow.keras import layers"
      ]
    },
    {
      "cell_type": "code",
      "execution_count": null,
      "id": "42d416e4",
      "metadata": {
        "id": "42d416e4",
        "outputId": "e41f894f-842a-4696-a8dc-9bafcc22eca8"
      },
      "outputs": [
        {
          "name": "stdout",
          "output_type": "stream",
          "text": [
            "Model: \"sequential\"\n",
            "_________________________________________________________________\n",
            " Layer (type)                Output Shape              Param #   \n",
            "=================================================================\n",
            " gru (GRU)                   (None, 64)                18048     \n",
            "                                                                 \n",
            " batch_normalization (BatchN  (None, 64)               256       \n",
            " ormalization)                                                   \n",
            "                                                                 \n",
            " dense (Dense)               (None, 10)                650       \n",
            "                                                                 \n",
            "=================================================================\n",
            "Total params: 18,954\n",
            "Trainable params: 18,826\n",
            "Non-trainable params: 128\n",
            "_________________________________________________________________\n",
            "None\n"
          ]
        }
      ],
      "source": [
        "model = keras.Sequential()\n",
        "model.add(layers.GRU(64, input_shape=(28, 28)))\n",
        "model.add(layers.BatchNormalization())\n",
        "model.add(layers.Dense(10))\n",
        "print(model.summary())"
      ]
    },
    {
      "cell_type": "code",
      "execution_count": null,
      "id": "393b9b72",
      "metadata": {
        "id": "393b9b72"
      },
      "outputs": [],
      "source": [
        "mnist = keras.datasets.mnist\n",
        "(X_train, y_train), (X_test, y_test) = mnist.load_data()\n",
        "X_train, X_test = X_train/255.0, X_test/255.0\n",
        "X_validate, y_validate = X_test[:-10], y_test[:-10]\n",
        "X_test, y_test = X_test[-10:], y_test[-10:]"
      ]
    },
    {
      "cell_type": "code",
      "execution_count": null,
      "id": "57ed584d",
      "metadata": {
        "id": "57ed584d"
      },
      "outputs": [],
      "source": [
        "model.compile(\n",
        "    loss=keras.losses.SparseCategoricalCrossentropy(from_logits=True),\n",
        "    optimizer=\"sgd\",\n",
        "    metrics=[\"accuracy\"],\n",
        ")"
      ]
    },
    {
      "cell_type": "code",
      "execution_count": null,
      "id": "603f8ac7",
      "metadata": {
        "id": "603f8ac7",
        "outputId": "630dee3e-bf89-4431-825f-7a7d5a0edfcf"
      },
      "outputs": [
        {
          "name": "stdout",
          "output_type": "stream",
          "text": [
            "Epoch 1/10\n",
            "938/938 [==============================] - 18s 18ms/step - loss: 1.3679 - accuracy: 0.5450 - val_loss: 0.9296 - val_accuracy: 0.6944\n",
            "Epoch 2/10\n",
            "938/938 [==============================] - 16s 17ms/step - loss: 0.7607 - accuracy: 0.7488 - val_loss: 0.6929 - val_accuracy: 0.7578\n",
            "Epoch 3/10\n",
            "938/938 [==============================] - 16s 17ms/step - loss: 0.5199 - accuracy: 0.8326 - val_loss: 0.4292 - val_accuracy: 0.8557\n",
            "Epoch 4/10\n",
            "938/938 [==============================] - 16s 17ms/step - loss: 0.3647 - accuracy: 0.8856 - val_loss: 0.3284 - val_accuracy: 0.8944\n",
            "Epoch 5/10\n",
            "938/938 [==============================] - 16s 17ms/step - loss: 0.2839 - accuracy: 0.9118 - val_loss: 0.2881 - val_accuracy: 0.9064\n",
            "Epoch 6/10\n",
            "938/938 [==============================] - 16s 17ms/step - loss: 0.2377 - accuracy: 0.9261 - val_loss: 0.2129 - val_accuracy: 0.9326\n",
            "Epoch 7/10\n",
            "938/938 [==============================] - 15s 16ms/step - loss: 0.2012 - accuracy: 0.9383 - val_loss: 0.1813 - val_accuracy: 0.9436\n",
            "Epoch 8/10\n",
            "938/938 [==============================] - 14s 15ms/step - loss: 0.1728 - accuracy: 0.9475 - val_loss: 0.2787 - val_accuracy: 0.9094\n",
            "Epoch 9/10\n",
            "938/938 [==============================] - 14s 15ms/step - loss: 0.1553 - accuracy: 0.9524 - val_loss: 0.1268 - val_accuracy: 0.9608\n",
            "Epoch 10/10\n",
            "938/938 [==============================] - 14s 15ms/step - loss: 0.1406 - accuracy: 0.9576 - val_loss: 0.1750 - val_accuracy: 0.9449\n"
          ]
        },
        {
          "data": {
            "text/plain": [
              "<keras.callbacks.History at 0x28cb635d240>"
            ]
          },
          "execution_count": 28,
          "metadata": {},
          "output_type": "execute_result"
        }
      ],
      "source": [
        "model.fit(\n",
        "    X_train, y_train, validation_data=(X_validate, y_validate), batch_size=64, epochs=10\n",
        ")"
      ]
    },
    {
      "cell_type": "code",
      "execution_count": null,
      "id": "15763234",
      "metadata": {
        "id": "15763234",
        "outputId": "2fd6be7a-9bb6-4705-b2d6-36cded625346"
      },
      "outputs": [
        {
          "name": "stdout",
          "output_type": "stream",
          "text": [
            "1/1 [==============================] - 0s 329ms/step\n",
            "[7] 7\n",
            "1/1 [==============================] - 0s 19ms/step\n",
            "[8] 8\n",
            "1/1 [==============================] - 0s 20ms/step\n",
            "[9] 9\n",
            "1/1 [==============================] - 0s 20ms/step\n",
            "[0] 0\n",
            "1/1 [==============================] - 0s 23ms/step\n",
            "[1] 1\n",
            "1/1 [==============================] - 0s 24ms/step\n",
            "[2] 2\n",
            "1/1 [==============================] - 0s 21ms/step\n",
            "[3] 3\n",
            "1/1 [==============================] - 0s 23ms/step\n",
            "[4] 4\n",
            "1/1 [==============================] - 0s 21ms/step\n",
            "[5] 5\n",
            "1/1 [==============================] - 0s 24ms/step\n",
            "[6] 6\n"
          ]
        }
      ],
      "source": [
        "for i in range(10):\n",
        "    result = tf.argmax(model.predict(tf.expand_dims(X_test[i], 0)), axis=1)\n",
        "    print(result.numpy(), y_test[i])"
      ]
    },
    {
      "cell_type": "code",
      "execution_count": null,
      "id": "24baef24",
      "metadata": {
        "id": "24baef24",
        "outputId": "b2320fd8-d78f-4168-f7f4-f42a55b690db"
      },
      "outputs": [
        {
          "name": "stdout",
          "output_type": "stream",
          "text": [
            "Epoch 1/25\n",
            "1875/1875 [==============================] - 27s 15ms/step - loss: 0.1521 - accuracy: 0.9521 - val_loss: 0.1839 - val_accuracy: 0.9421\n",
            "Epoch 2/25\n",
            "1875/1875 [==============================] - 28s 15ms/step - loss: 0.1306 - accuracy: 0.9595 - val_loss: 0.1355 - val_accuracy: 0.9556\n",
            "Epoch 3/25\n",
            "1875/1875 [==============================] - 28s 15ms/step - loss: 0.1183 - accuracy: 0.9632 - val_loss: 0.1384 - val_accuracy: 0.9541\n",
            "Epoch 4/25\n",
            "1875/1875 [==============================] - 28s 15ms/step - loss: 0.1077 - accuracy: 0.9663 - val_loss: 0.0806 - val_accuracy: 0.9746\n",
            "Epoch 5/25\n",
            "1875/1875 [==============================] - 23s 12ms/step - loss: 0.0992 - accuracy: 0.9694 - val_loss: 0.2718 - val_accuracy: 0.9091\n",
            "Epoch 6/25\n",
            "1875/1875 [==============================] - 24s 13ms/step - loss: 0.0933 - accuracy: 0.9712 - val_loss: 0.0826 - val_accuracy: 0.9723\n",
            "Epoch 7/25\n",
            "1875/1875 [==============================] - 25s 13ms/step - loss: 0.0872 - accuracy: 0.9728 - val_loss: 0.0733 - val_accuracy: 0.9782\n",
            "Epoch 8/25\n",
            "1875/1875 [==============================] - 24s 13ms/step - loss: 0.0820 - accuracy: 0.9747 - val_loss: 0.1129 - val_accuracy: 0.9653\n",
            "Epoch 9/25\n",
            "1875/1875 [==============================] - 25s 13ms/step - loss: 0.0779 - accuracy: 0.9754 - val_loss: 0.0837 - val_accuracy: 0.9759\n",
            "Epoch 10/25\n",
            "1875/1875 [==============================] - 25s 14ms/step - loss: 0.0753 - accuracy: 0.9759 - val_loss: 0.0615 - val_accuracy: 0.9813\n",
            "Epoch 11/25\n",
            "1875/1875 [==============================] - 26s 14ms/step - loss: 0.0698 - accuracy: 0.9783 - val_loss: 0.0787 - val_accuracy: 0.9748\n",
            "Epoch 12/25\n",
            "1875/1875 [==============================] - 26s 14ms/step - loss: 0.0691 - accuracy: 0.9786 - val_loss: 0.0694 - val_accuracy: 0.9774\n",
            "Epoch 13/25\n",
            "1875/1875 [==============================] - 28s 15ms/step - loss: 0.0647 - accuracy: 0.9795 - val_loss: 0.0617 - val_accuracy: 0.9815\n",
            "Epoch 14/25\n",
            "1875/1875 [==============================] - 27s 14ms/step - loss: 0.0617 - accuracy: 0.9807 - val_loss: 0.0717 - val_accuracy: 0.9777\n",
            "Epoch 15/25\n",
            "1875/1875 [==============================] - 27s 14ms/step - loss: 0.0597 - accuracy: 0.9804 - val_loss: 0.0978 - val_accuracy: 0.9713\n",
            "Epoch 16/25\n",
            "1875/1875 [==============================] - 27s 14ms/step - loss: 0.0581 - accuracy: 0.9818 - val_loss: 0.0638 - val_accuracy: 0.9821\n",
            "Epoch 17/25\n",
            "1875/1875 [==============================] - 27s 14ms/step - loss: 0.0558 - accuracy: 0.9824 - val_loss: 0.0666 - val_accuracy: 0.9791\n",
            "Epoch 18/25\n",
            "1875/1875 [==============================] - 28s 15ms/step - loss: 0.0546 - accuracy: 0.9826 - val_loss: 0.0652 - val_accuracy: 0.9793\n",
            "Epoch 19/25\n",
            "1875/1875 [==============================] - 27s 14ms/step - loss: 0.0532 - accuracy: 0.9828 - val_loss: 0.0538 - val_accuracy: 0.9845\n",
            "Epoch 20/25\n",
            "1875/1875 [==============================] - 27s 14ms/step - loss: 0.0525 - accuracy: 0.9833 - val_loss: 0.0496 - val_accuracy: 0.9867\n",
            "Epoch 21/25\n",
            "1875/1875 [==============================] - 27s 14ms/step - loss: 0.0511 - accuracy: 0.9834 - val_loss: 0.0507 - val_accuracy: 0.9849\n",
            "Epoch 22/25\n",
            "1875/1875 [==============================] - 27s 15ms/step - loss: 0.0481 - accuracy: 0.9847 - val_loss: 0.0623 - val_accuracy: 0.9817\n",
            "Epoch 23/25\n",
            "1875/1875 [==============================] - 27s 14ms/step - loss: 0.0480 - accuracy: 0.9848 - val_loss: 0.0459 - val_accuracy: 0.9860\n",
            "Epoch 24/25\n",
            "1875/1875 [==============================] - 28s 15ms/step - loss: 0.0464 - accuracy: 0.9854 - val_loss: 0.0506 - val_accuracy: 0.9845\n",
            "Epoch 25/25\n",
            "1875/1875 [==============================] - 26s 14ms/step - loss: 0.0454 - accuracy: 0.9854 - val_loss: 0.0562 - val_accuracy: 0.9831\n"
          ]
        },
        {
          "data": {
            "text/plain": [
              "<keras.callbacks.History at 0x28cb9126710>"
            ]
          },
          "execution_count": 31,
          "metadata": {},
          "output_type": "execute_result"
        }
      ],
      "source": [
        "model.fit(\n",
        "    X_train, y_train, validation_data=(X_validate, y_validate), batch_size=32, epochs=25\n",
        ")"
      ]
    },
    {
      "cell_type": "code",
      "execution_count": null,
      "id": "281910b5",
      "metadata": {
        "id": "281910b5"
      },
      "outputs": [],
      "source": []
    }
  ],
  "metadata": {
    "kernelspec": {
      "display_name": "Python 3 (ipykernel)",
      "language": "python",
      "name": "python3"
    },
    "language_info": {
      "codemirror_mode": {
        "name": "ipython",
        "version": 3
      },
      "file_extension": ".py",
      "mimetype": "text/x-python",
      "name": "python",
      "nbconvert_exporter": "python",
      "pygments_lexer": "ipython3",
      "version": "3.10.4"
    },
    "colab": {
      "provenance": []
    }
  },
  "nbformat": 4,
  "nbformat_minor": 5
}