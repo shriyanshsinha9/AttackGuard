{
  "nbformat": 4,
  "nbformat_minor": 0,
  "metadata": {
    "colab": {
      "provenance": []
    },
    "kernelspec": {
      "name": "python3",
      "display_name": "Python 3"
    },
    "language_info": {
      "name": "python"
    }
  },
  "cells": [
    {
      "cell_type": "code",
      "execution_count": null,
      "metadata": {
        "id": "dvdgeDP-Vf2i"
      },
      "outputs": [],
      "source": [
        "import pandas as pd\n",
        "import numpy as np\n",
        "from sklearn.model_selection import train_test_split\n",
        "from sklearn.preprocessing import LabelEncoder\n",
        "from sklearn.impute import SimpleImputer\n",
        "from sklearn.ensemble import RandomForestRegressor\n",
        "from sklearn.preprocessing import StandardScaler\n",
        "from keras.models import Sequential\n",
        "from keras.layers import Dense\n",
        "from keras.layers import Dropout\n",
        "from sklearn.metrics import confusion_matrix\n",
        "from sklearn.metrics import accuracy_score, precision_score, recall_score, f1_score"
      ]
    },
    {
      "cell_type": "code",
      "source": [
        "data = pd.read_csv('combined_data.csv')\n",
        "le = LabelEncoder()\n",
        "label=le.fit_transform(data['Protocol'])\n",
        "data['Protocol']=label"
      ],
      "metadata": {
        "id": "fSwiCDOpCsx-"
      },
      "execution_count": null,
      "outputs": []
    },
    {
      "cell_type": "code",
      "source": [
        "data = data.drop(data.columns[0], axis=1)"
      ],
      "metadata": {
        "id": "kzHGCC3pCtC2"
      },
      "execution_count": null,
      "outputs": []
    },
    {
      "cell_type": "code",
      "source": [
        "data.describe()"
      ],
      "metadata": {
        "colab": {
          "base_uri": "https://localhost:8080/",
          "height": 300
        },
        "id": "CdLd2ahMCtMB",
        "outputId": "497293a5-f7b6-4c2e-bd74-0c56fd34ddb1"
      },
      "execution_count": null,
      "outputs": [
        {
          "output_type": "execute_result",
          "data": {
            "text/plain": [
              "               Time       Protocol         Length         Target\n",
              "count  3.172390e+05  317239.000000  317239.000000  317239.000000\n",
              "mean   6.745880e+01      14.254222     492.194393       0.945650\n",
              "std    1.916876e+02       3.108322     952.918346       0.226708\n",
              "min    3.610000e-07       0.000000      42.000000       0.000000\n",
              "25%    5.406614e-01      14.000000      66.000000       1.000000\n",
              "50%    1.879724e+00      14.000000      74.000000       1.000000\n",
              "75%    5.238090e+01      17.000000    1152.000000       1.000000\n",
              "max    9.699905e+02      17.000000   44954.000000       1.000000"
            ],
            "text/html": [
              "\n",
              "  <div id=\"df-258d7ca0-fd1d-42d4-98a8-51424fe1a910\">\n",
              "    <div class=\"colab-df-container\">\n",
              "      <div>\n",
              "<style scoped>\n",
              "    .dataframe tbody tr th:only-of-type {\n",
              "        vertical-align: middle;\n",
              "    }\n",
              "\n",
              "    .dataframe tbody tr th {\n",
              "        vertical-align: top;\n",
              "    }\n",
              "\n",
              "    .dataframe thead th {\n",
              "        text-align: right;\n",
              "    }\n",
              "</style>\n",
              "<table border=\"1\" class=\"dataframe\">\n",
              "  <thead>\n",
              "    <tr style=\"text-align: right;\">\n",
              "      <th></th>\n",
              "      <th>Time</th>\n",
              "      <th>Protocol</th>\n",
              "      <th>Length</th>\n",
              "      <th>Target</th>\n",
              "    </tr>\n",
              "  </thead>\n",
              "  <tbody>\n",
              "    <tr>\n",
              "      <th>count</th>\n",
              "      <td>3.172390e+05</td>\n",
              "      <td>317239.000000</td>\n",
              "      <td>317239.000000</td>\n",
              "      <td>317239.000000</td>\n",
              "    </tr>\n",
              "    <tr>\n",
              "      <th>mean</th>\n",
              "      <td>6.745880e+01</td>\n",
              "      <td>14.254222</td>\n",
              "      <td>492.194393</td>\n",
              "      <td>0.945650</td>\n",
              "    </tr>\n",
              "    <tr>\n",
              "      <th>std</th>\n",
              "      <td>1.916876e+02</td>\n",
              "      <td>3.108322</td>\n",
              "      <td>952.918346</td>\n",
              "      <td>0.226708</td>\n",
              "    </tr>\n",
              "    <tr>\n",
              "      <th>min</th>\n",
              "      <td>3.610000e-07</td>\n",
              "      <td>0.000000</td>\n",
              "      <td>42.000000</td>\n",
              "      <td>0.000000</td>\n",
              "    </tr>\n",
              "    <tr>\n",
              "      <th>25%</th>\n",
              "      <td>5.406614e-01</td>\n",
              "      <td>14.000000</td>\n",
              "      <td>66.000000</td>\n",
              "      <td>1.000000</td>\n",
              "    </tr>\n",
              "    <tr>\n",
              "      <th>50%</th>\n",
              "      <td>1.879724e+00</td>\n",
              "      <td>14.000000</td>\n",
              "      <td>74.000000</td>\n",
              "      <td>1.000000</td>\n",
              "    </tr>\n",
              "    <tr>\n",
              "      <th>75%</th>\n",
              "      <td>5.238090e+01</td>\n",
              "      <td>17.000000</td>\n",
              "      <td>1152.000000</td>\n",
              "      <td>1.000000</td>\n",
              "    </tr>\n",
              "    <tr>\n",
              "      <th>max</th>\n",
              "      <td>9.699905e+02</td>\n",
              "      <td>17.000000</td>\n",
              "      <td>44954.000000</td>\n",
              "      <td>1.000000</td>\n",
              "    </tr>\n",
              "  </tbody>\n",
              "</table>\n",
              "</div>\n",
              "      <button class=\"colab-df-convert\" onclick=\"convertToInteractive('df-258d7ca0-fd1d-42d4-98a8-51424fe1a910')\"\n",
              "              title=\"Convert this dataframe to an interactive table.\"\n",
              "              style=\"display:none;\">\n",
              "        \n",
              "  <svg xmlns=\"http://www.w3.org/2000/svg\" height=\"24px\"viewBox=\"0 0 24 24\"\n",
              "       width=\"24px\">\n",
              "    <path d=\"M0 0h24v24H0V0z\" fill=\"none\"/>\n",
              "    <path d=\"M18.56 5.44l.94 2.06.94-2.06 2.06-.94-2.06-.94-.94-2.06-.94 2.06-2.06.94zm-11 1L8.5 8.5l.94-2.06 2.06-.94-2.06-.94L8.5 2.5l-.94 2.06-2.06.94zm10 10l.94 2.06.94-2.06 2.06-.94-2.06-.94-.94-2.06-.94 2.06-2.06.94z\"/><path d=\"M17.41 7.96l-1.37-1.37c-.4-.4-.92-.59-1.43-.59-.52 0-1.04.2-1.43.59L10.3 9.45l-7.72 7.72c-.78.78-.78 2.05 0 2.83L4 21.41c.39.39.9.59 1.41.59.51 0 1.02-.2 1.41-.59l7.78-7.78 2.81-2.81c.8-.78.8-2.07 0-2.86zM5.41 20L4 18.59l7.72-7.72 1.47 1.35L5.41 20z\"/>\n",
              "  </svg>\n",
              "      </button>\n",
              "      \n",
              "  <style>\n",
              "    .colab-df-container {\n",
              "      display:flex;\n",
              "      flex-wrap:wrap;\n",
              "      gap: 12px;\n",
              "    }\n",
              "\n",
              "    .colab-df-convert {\n",
              "      background-color: #E8F0FE;\n",
              "      border: none;\n",
              "      border-radius: 50%;\n",
              "      cursor: pointer;\n",
              "      display: none;\n",
              "      fill: #1967D2;\n",
              "      height: 32px;\n",
              "      padding: 0 0 0 0;\n",
              "      width: 32px;\n",
              "    }\n",
              "\n",
              "    .colab-df-convert:hover {\n",
              "      background-color: #E2EBFA;\n",
              "      box-shadow: 0px 1px 2px rgba(60, 64, 67, 0.3), 0px 1px 3px 1px rgba(60, 64, 67, 0.15);\n",
              "      fill: #174EA6;\n",
              "    }\n",
              "\n",
              "    [theme=dark] .colab-df-convert {\n",
              "      background-color: #3B4455;\n",
              "      fill: #D2E3FC;\n",
              "    }\n",
              "\n",
              "    [theme=dark] .colab-df-convert:hover {\n",
              "      background-color: #434B5C;\n",
              "      box-shadow: 0px 1px 3px 1px rgba(0, 0, 0, 0.15);\n",
              "      filter: drop-shadow(0px 1px 2px rgba(0, 0, 0, 0.3));\n",
              "      fill: #FFFFFF;\n",
              "    }\n",
              "  </style>\n",
              "\n",
              "      <script>\n",
              "        const buttonEl =\n",
              "          document.querySelector('#df-258d7ca0-fd1d-42d4-98a8-51424fe1a910 button.colab-df-convert');\n",
              "        buttonEl.style.display =\n",
              "          google.colab.kernel.accessAllowed ? 'block' : 'none';\n",
              "\n",
              "        async function convertToInteractive(key) {\n",
              "          const element = document.querySelector('#df-258d7ca0-fd1d-42d4-98a8-51424fe1a910');\n",
              "          const dataTable =\n",
              "            await google.colab.kernel.invokeFunction('convertToInteractive',\n",
              "                                                     [key], {});\n",
              "          if (!dataTable) return;\n",
              "\n",
              "          const docLinkHtml = 'Like what you see? Visit the ' +\n",
              "            '<a target=\"_blank\" href=https://colab.research.google.com/notebooks/data_table.ipynb>data table notebook</a>'\n",
              "            + ' to learn more about interactive tables.';\n",
              "          element.innerHTML = '';\n",
              "          dataTable['output_type'] = 'display_data';\n",
              "          await google.colab.output.renderOutput(dataTable, element);\n",
              "          const docLink = document.createElement('div');\n",
              "          docLink.innerHTML = docLinkHtml;\n",
              "          element.appendChild(docLink);\n",
              "        }\n",
              "      </script>\n",
              "    </div>\n",
              "  </div>\n",
              "  "
            ]
          },
          "metadata": {},
          "execution_count": 6
        }
      ]
    },
    {
      "cell_type": "code",
      "source": [
        "data=data.dropna()"
      ],
      "metadata": {
        "id": "Gq-kS_HgFKPj"
      },
      "execution_count": null,
      "outputs": []
    },
    {
      "cell_type": "code",
      "source": [
        "corr_matrix = data.corr()\n",
        "corr_matrix"
      ],
      "metadata": {
        "colab": {
          "base_uri": "https://localhost:8080/",
          "height": 190
        },
        "id": "F-z1Gr9ZFKSD",
        "outputId": "b8f3307b-e3be-434c-b434-7528c4b02b03"
      },
      "execution_count": null,
      "outputs": [
        {
          "output_type": "execute_result",
          "data": {
            "text/plain": [
              "              Time  Protocol    Length    Target\n",
              "Time      1.000000 -0.167834 -0.047586 -0.956120\n",
              "Protocol -0.167834  1.000000 -0.156231  0.104349\n",
              "Length   -0.047586 -0.156231  1.000000  0.016479\n",
              "Target   -0.956120  0.104349  0.016479  1.000000"
            ],
            "text/html": [
              "\n",
              "  <div id=\"df-b65dc80e-aba7-4448-b4f9-4b745c8d01d1\">\n",
              "    <div class=\"colab-df-container\">\n",
              "      <div>\n",
              "<style scoped>\n",
              "    .dataframe tbody tr th:only-of-type {\n",
              "        vertical-align: middle;\n",
              "    }\n",
              "\n",
              "    .dataframe tbody tr th {\n",
              "        vertical-align: top;\n",
              "    }\n",
              "\n",
              "    .dataframe thead th {\n",
              "        text-align: right;\n",
              "    }\n",
              "</style>\n",
              "<table border=\"1\" class=\"dataframe\">\n",
              "  <thead>\n",
              "    <tr style=\"text-align: right;\">\n",
              "      <th></th>\n",
              "      <th>Time</th>\n",
              "      <th>Protocol</th>\n",
              "      <th>Length</th>\n",
              "      <th>Target</th>\n",
              "    </tr>\n",
              "  </thead>\n",
              "  <tbody>\n",
              "    <tr>\n",
              "      <th>Time</th>\n",
              "      <td>1.000000</td>\n",
              "      <td>-0.167834</td>\n",
              "      <td>-0.047586</td>\n",
              "      <td>-0.956120</td>\n",
              "    </tr>\n",
              "    <tr>\n",
              "      <th>Protocol</th>\n",
              "      <td>-0.167834</td>\n",
              "      <td>1.000000</td>\n",
              "      <td>-0.156231</td>\n",
              "      <td>0.104349</td>\n",
              "    </tr>\n",
              "    <tr>\n",
              "      <th>Length</th>\n",
              "      <td>-0.047586</td>\n",
              "      <td>-0.156231</td>\n",
              "      <td>1.000000</td>\n",
              "      <td>0.016479</td>\n",
              "    </tr>\n",
              "    <tr>\n",
              "      <th>Target</th>\n",
              "      <td>-0.956120</td>\n",
              "      <td>0.104349</td>\n",
              "      <td>0.016479</td>\n",
              "      <td>1.000000</td>\n",
              "    </tr>\n",
              "  </tbody>\n",
              "</table>\n",
              "</div>\n",
              "      <button class=\"colab-df-convert\" onclick=\"convertToInteractive('df-b65dc80e-aba7-4448-b4f9-4b745c8d01d1')\"\n",
              "              title=\"Convert this dataframe to an interactive table.\"\n",
              "              style=\"display:none;\">\n",
              "        \n",
              "  <svg xmlns=\"http://www.w3.org/2000/svg\" height=\"24px\"viewBox=\"0 0 24 24\"\n",
              "       width=\"24px\">\n",
              "    <path d=\"M0 0h24v24H0V0z\" fill=\"none\"/>\n",
              "    <path d=\"M18.56 5.44l.94 2.06.94-2.06 2.06-.94-2.06-.94-.94-2.06-.94 2.06-2.06.94zm-11 1L8.5 8.5l.94-2.06 2.06-.94-2.06-.94L8.5 2.5l-.94 2.06-2.06.94zm10 10l.94 2.06.94-2.06 2.06-.94-2.06-.94-.94-2.06-.94 2.06-2.06.94z\"/><path d=\"M17.41 7.96l-1.37-1.37c-.4-.4-.92-.59-1.43-.59-.52 0-1.04.2-1.43.59L10.3 9.45l-7.72 7.72c-.78.78-.78 2.05 0 2.83L4 21.41c.39.39.9.59 1.41.59.51 0 1.02-.2 1.41-.59l7.78-7.78 2.81-2.81c.8-.78.8-2.07 0-2.86zM5.41 20L4 18.59l7.72-7.72 1.47 1.35L5.41 20z\"/>\n",
              "  </svg>\n",
              "      </button>\n",
              "      \n",
              "  <style>\n",
              "    .colab-df-container {\n",
              "      display:flex;\n",
              "      flex-wrap:wrap;\n",
              "      gap: 12px;\n",
              "    }\n",
              "\n",
              "    .colab-df-convert {\n",
              "      background-color: #E8F0FE;\n",
              "      border: none;\n",
              "      border-radius: 50%;\n",
              "      cursor: pointer;\n",
              "      display: none;\n",
              "      fill: #1967D2;\n",
              "      height: 32px;\n",
              "      padding: 0 0 0 0;\n",
              "      width: 32px;\n",
              "    }\n",
              "\n",
              "    .colab-df-convert:hover {\n",
              "      background-color: #E2EBFA;\n",
              "      box-shadow: 0px 1px 2px rgba(60, 64, 67, 0.3), 0px 1px 3px 1px rgba(60, 64, 67, 0.15);\n",
              "      fill: #174EA6;\n",
              "    }\n",
              "\n",
              "    [theme=dark] .colab-df-convert {\n",
              "      background-color: #3B4455;\n",
              "      fill: #D2E3FC;\n",
              "    }\n",
              "\n",
              "    [theme=dark] .colab-df-convert:hover {\n",
              "      background-color: #434B5C;\n",
              "      box-shadow: 0px 1px 3px 1px rgba(0, 0, 0, 0.15);\n",
              "      filter: drop-shadow(0px 1px 2px rgba(0, 0, 0, 0.3));\n",
              "      fill: #FFFFFF;\n",
              "    }\n",
              "  </style>\n",
              "\n",
              "      <script>\n",
              "        const buttonEl =\n",
              "          document.querySelector('#df-b65dc80e-aba7-4448-b4f9-4b745c8d01d1 button.colab-df-convert');\n",
              "        buttonEl.style.display =\n",
              "          google.colab.kernel.accessAllowed ? 'block' : 'none';\n",
              "\n",
              "        async function convertToInteractive(key) {\n",
              "          const element = document.querySelector('#df-b65dc80e-aba7-4448-b4f9-4b745c8d01d1');\n",
              "          const dataTable =\n",
              "            await google.colab.kernel.invokeFunction('convertToInteractive',\n",
              "                                                     [key], {});\n",
              "          if (!dataTable) return;\n",
              "\n",
              "          const docLinkHtml = 'Like what you see? Visit the ' +\n",
              "            '<a target=\"_blank\" href=https://colab.research.google.com/notebooks/data_table.ipynb>data table notebook</a>'\n",
              "            + ' to learn more about interactive tables.';\n",
              "          element.innerHTML = '';\n",
              "          dataTable['output_type'] = 'display_data';\n",
              "          await google.colab.output.renderOutput(dataTable, element);\n",
              "          const docLink = document.createElement('div');\n",
              "          docLink.innerHTML = docLinkHtml;\n",
              "          element.appendChild(docLink);\n",
              "        }\n",
              "      </script>\n",
              "    </div>\n",
              "  </div>\n",
              "  "
            ]
          },
          "metadata": {},
          "execution_count": 8
        }
      ]
    },
    {
      "cell_type": "code",
      "source": [
        "X = data[['Time','Protocol','Length']]\n",
        "y = data['Target']"
      ],
      "metadata": {
        "id": "uRuHSgefFKUd"
      },
      "execution_count": null,
      "outputs": []
    },
    {
      "cell_type": "code",
      "source": [
        "rf = RandomForestRegressor(n_estimators=100, random_state=42)\n",
        "rf.fit(X, y)\n",
        "importances = rf.feature_importances_\n",
        "indices = sorted(range(len(importances)), key=lambda i: importances[i], reverse=True)"
      ],
      "metadata": {
        "id": "BUmyIih2FKWs"
      },
      "execution_count": null,
      "outputs": []
    },
    {
      "cell_type": "code",
      "source": [
        "X=data[['Time','Length']]\n",
        "scaler = StandardScaler()\n",
        "X_scaled = scaler.fit_transform(X)\n",
        "X_scaled"
      ],
      "metadata": {
        "colab": {
          "base_uri": "https://localhost:8080/"
        },
        "id": "g4Nx-lJbFKaN",
        "outputId": "26a7c1c8-8c6b-4d7b-a91a-09dbca1f63fe"
      },
      "execution_count": null,
      "outputs": [
        {
          "output_type": "execute_result",
          "data": {
            "text/plain": [
              "array([[-0.33721991, -0.45984536],\n",
              "       [-0.33719915, -0.45984536],\n",
              "       [-0.33694828, -0.45984536],\n",
              "       ...,\n",
              "       [-0.33453992,  1.07229252],\n",
              "       [-0.3345398 ,  1.07229252],\n",
              "       [-0.33453965,  1.07229252]])"
            ]
          },
          "metadata": {},
          "execution_count": 11
        }
      ]
    },
    {
      "cell_type": "code",
      "source": [
        "X = data.iloc[:,:-1].values\n",
        "X[:,0]=X_scaled[:,0]*-1\n",
        "X"
      ],
      "metadata": {
        "colab": {
          "base_uri": "https://localhost:8080/"
        },
        "id": "SZhn56PHFhyL",
        "outputId": "93ae5693-49e4-474f-ecff-4ceed8e1b88d"
      },
      "execution_count": null,
      "outputs": [
        {
          "output_type": "execute_result",
          "data": {
            "text/plain": [
              "array([[0.3372199095369218, '192.168.112.128', '49.44.194.34', 14, 54,\n",
              "        '40492  >  80 [ACK] Seq=1 Ack=1 Win=64008 Len=0'],\n",
              "       [0.3371991473364919, '192.168.112.128', '49.44.194.34', 14, 54,\n",
              "        '40510  >  80 [ACK] Seq=1 Ack=1 Win=63936 Len=0'],\n",
              "       [0.33694828393219456, '192.168.112.128', '152.195.38.76', 14, 54,\n",
              "        '49232  >  80 [ACK] Seq=1 Ack=1 Win=63812 Len=0'],\n",
              "       ...,\n",
              "       [0.3345399221130892, '192.168.112.128', '192.168.112.129', 14,\n",
              "        1514,\n",
              "        '49876  >  80 [ACK] Seq=12450561 Ack=1 Win=501 Len=1448 TSval=1204965619 TSecr=777797 [TCP segment of a reassembled PDU]'],\n",
              "       [0.3345397970135399, '192.168.112.128', '192.168.112.129', 14,\n",
              "        1514,\n",
              "        '52492  >  80 [ACK] Seq=10219313 Ack=1 Win=501 Len=1448 TSval=1204965619 TSecr=777797 [TCP segment of a reassembled PDU]'],\n",
              "       [0.3345396510049417, '192.168.112.128', '192.168.112.129', 14,\n",
              "        1514,\n",
              "        '52456  >  80 [PSH, ACK] Seq=10889281 Ack=1 Win=501 Len=1448 TSval=1204965619 TSecr=777797 [TCP segment of a reassembled PDU]']],\n",
              "      dtype=object)"
            ]
          },
          "metadata": {},
          "execution_count": 12
        }
      ]
    },
    {
      "cell_type": "code",
      "source": [
        "y"
      ],
      "metadata": {
        "colab": {
          "base_uri": "https://localhost:8080/"
        },
        "id": "i4FW64WyCtPW",
        "outputId": "1d3147fe-58fe-40ca-9fc0-8dcbbba95dda"
      },
      "execution_count": null,
      "outputs": [
        {
          "output_type": "execute_result",
          "data": {
            "text/plain": [
              "0         0\n",
              "1         0\n",
              "2         0\n",
              "3         0\n",
              "4         0\n",
              "         ..\n",
              "317234    1\n",
              "317235    1\n",
              "317236    1\n",
              "317237    1\n",
              "317238    1\n",
              "Name: Target, Length: 317239, dtype: int64"
            ]
          },
          "metadata": {},
          "execution_count": 13
        }
      ]
    },
    {
      "cell_type": "code",
      "source": [
        "X_train,X_test,y_train,y_test= train_test_split(X,y,random_state=42,train_size=0.8)\n",
        "X_train = np.asarray(X_train)\n",
        "X_test= np.asarray(X_test)\n",
        "y_train=np.asarray(y_train)\n",
        "y_test=np.asarray(y_test)"
      ],
      "metadata": {
        "id": "Q8OkocFQFlE5"
      },
      "execution_count": null,
      "outputs": []
    },
    {
      "cell_type": "code",
      "source": [
        "import tensorflow as tf\n",
        "from tensorflow import keras\n",
        "from tensorflow.keras import layers"
      ],
      "metadata": {
        "id": "3QqcOfF9MccG"
      },
      "execution_count": null,
      "outputs": []
    },
    {
      "cell_type": "code",
      "source": [
        "mnist = keras.datasets.mnist\n",
        "(X_train, y_train), (X_test, y_test) = mnist.load_data()\n",
        "X_train, X_test = X_train/255.0, X_test/255.0\n",
        "X_validate, y_validate = X_test[:-10], y_test[:-10]\n",
        "X_test, y_test = X_test[-10:], y_test[-10:]"
      ],
      "metadata": {
        "colab": {
          "base_uri": "https://localhost:8080/"
        },
        "id": "6tKNgXLoMY-y",
        "outputId": "870e0119-3cd9-42ff-f234-ca7130a386ce"
      },
      "execution_count": null,
      "outputs": [
        {
          "output_type": "stream",
          "name": "stdout",
          "text": [
            "Downloading data from https://storage.googleapis.com/tensorflow/tf-keras-datasets/mnist.npz\n",
            "11490434/11490434 [==============================] - 0s 0us/step\n"
          ]
        }
      ]
    },
    {
      "cell_type": "code",
      "source": [
        "from keras.models import Sequential\n",
        "from keras.layers import LSTM, Dense, Dropout\n",
        "from keras.optimizers import Adam\n",
        "\n",
        "\n",
        "num_units = 64\n",
        "num_layers = 1\n",
        "dropout_rate = 0.2\n",
        "learning_rate = 0.001\n",
        "batch_size = 64\n",
        "num_epochs = 3\n",
        "\n",
        "\n",
        "model = Sequential()\n",
        "model.add(LSTM(units=num_units, input_shape=( 28,28), return_sequences=True))\n",
        "model.add(Dropout(dropout_rate))\n",
        "\n",
        "for i in range(num_layers-1):\n",
        "    model.add(LSTM(units=num_units, return_sequences=True))\n",
        "    model.add(Dropout(dropout_rate))\n",
        "\n",
        "model.add(LSTM(units=num_units))\n",
        "model.add(Dropout(dropout_rate))\n",
        "model.add(Dense(1))\n",
        "\n",
        "adam = Adam(lr=learning_rate)\n",
        "model.compile(loss='mse', optimizer='adam', metrics = [\"accuracy\"])\n",
        "\n",
        "\n",
        "model.fit(X_train, y_train, epochs=num_epochs, batch_size=batch_size, verbose=1, validation_data=(X_validate, y_validate))\n",
        "\n",
        "\n",
        "loss = model.evaluate(X_test, y_test, batch_size=batch_size, verbose=1)\n",
        "print(f\"Test loss: {loss}\")\n"
      ],
      "metadata": {
        "colab": {
          "base_uri": "https://localhost:8080/"
        },
        "id": "x30ff_u5PVw4",
        "outputId": "64eff3ae-c009-4e6f-945c-37acb245afee"
      },
      "execution_count": null,
      "outputs": [
        {
          "output_type": "stream",
          "name": "stderr",
          "text": [
            "/usr/local/lib/python3.9/dist-packages/keras/optimizers/optimizer_v2/adam.py:117: UserWarning: The `lr` argument is deprecated, use `learning_rate` instead.\n",
            "  super().__init__(name, **kwargs)\n"
          ]
        },
        {
          "output_type": "stream",
          "name": "stdout",
          "text": [
            "Epoch 1/3\n",
            "938/938 [==============================] - 64s 60ms/step - loss: 3.2619 - accuracy: 0.1567 - val_loss: 1.1992 - val_accuracy: 0.1934\n",
            "Epoch 2/3\n",
            "938/938 [==============================] - 48s 52ms/step - loss: 1.1592 - accuracy: 0.1903 - val_loss: 0.6386 - val_accuracy: 0.1979\n",
            "Epoch 3/3\n",
            "938/938 [==============================] - 49s 52ms/step - loss: 0.8283 - accuracy: 0.1980 - val_loss: 0.5292 - val_accuracy: 0.2055\n",
            "1/1 [==============================] - 0s 33ms/step - loss: 0.0122 - accuracy: 0.2000\n",
            "Test loss: [0.012227948755025864, 0.20000000298023224]\n"
          ]
        }
      ]
    },
    {
      "cell_type": "code",
      "source": [
        "Import confusion_matrix"
      ],
      "metadata": {
        "colab": {
          "base_uri": "https://localhost:8080/",
          "height": 133
        },
        "id": "qyU3m1jr9yWN",
        "outputId": "173ecced-eb1c-40d3-e86b-efa442254e12"
      },
      "execution_count": null,
      "outputs": [
        {
          "output_type": "error",
          "ename": "SyntaxError",
          "evalue": "ignored",
          "traceback": [
            "\u001b[0;36m  File \u001b[0;32m\"<ipython-input-22-a0ff061c8908>\"\u001b[0;36m, line \u001b[0;32m1\u001b[0m\n\u001b[0;31m    Import confusion_matrix\u001b[0m\n\u001b[0m           ^\u001b[0m\n\u001b[0;31mSyntaxError\u001b[0m\u001b[0;31m:\u001b[0m invalid syntax\n"
          ]
        }
      ]
    },
    {
      "cell_type": "code",
      "source": [
        "cm=confusion_matrix(y_test, predictions)"
      ],
      "metadata": {
        "colab": {
          "base_uri": "https://localhost:8080/",
          "height": 169
        },
        "id": "s8tFKfav98eK",
        "outputId": "4ee6c903-75a3-4386-8e21-3f1609139230"
      },
      "execution_count": null,
      "outputs": [
        {
          "output_type": "error",
          "ename": "NameError",
          "evalue": "ignored",
          "traceback": [
            "\u001b[0;31m---------------------------------------------------------------------------\u001b[0m",
            "\u001b[0;31mNameError\u001b[0m                                 Traceback (most recent call last)",
            "\u001b[0;32m<ipython-input-21-fc9614463f40>\u001b[0m in \u001b[0;36m<module>\u001b[0;34m\u001b[0m\n\u001b[0;32m----> 1\u001b[0;31m \u001b[0mcm\u001b[0m\u001b[0;34m=\u001b[0m\u001b[0mconfusion_matrix\u001b[0m\u001b[0;34m(\u001b[0m\u001b[0my_test\u001b[0m\u001b[0;34m,\u001b[0m \u001b[0mpredictions\u001b[0m\u001b[0;34m)\u001b[0m\u001b[0;34m\u001b[0m\u001b[0;34m\u001b[0m\u001b[0m\n\u001b[0m",
            "\u001b[0;31mNameError\u001b[0m: name 'predictions' is not defined"
          ]
        }
      ]
    }
  ]
}