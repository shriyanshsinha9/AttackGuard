{
  "cells": [
    {
      "cell_type": "code",
      "execution_count": null,
      "metadata": {
        "id": "SKQv0EtHwzf3"
      },
      "outputs": [],
      "source": [
        "import numpy as np\n",
        "import pandas as pd\n",
        "from sklearn.neural_network import MLPClassifier\n",
        "from sklearn.metrics import accuracy_score, confusion_matrix\n",
        "from sklearn.model_selection import train_test_split\n",
        "from sklearn.preprocessing import LabelEncoder\n",
        "from sklearn.impute import SimpleImputer\n",
        "from sklearn.ensemble import RandomForestRegressor\n",
        "from sklearn.preprocessing import StandardScaler\n",
        "from keras.models import Sequential\n",
        "from keras.layers import Dense\n",
        "from keras.layers import Dropout\n",
        "from sklearn.metrics import confusion_matrix\n",
        "from sklearn.metrics import accuracy_score, precision_score, recall_score, f1_score\n",
        "import tensorflow as tf\n",
        "from tensorflow.keras.models import Sequential\n",
        "from tensorflow.keras.layers import Dense, Dropout, LSTM"
      ]
    },
    {
      "cell_type": "code",
      "execution_count": null,
      "metadata": {
        "id": "bE9HeEcR9OGN"
      },
      "outputs": [],
      "source": [
        "data = pd.read_csv('combined_data.csv')"
      ]
    },
    {
      "cell_type": "code",
      "execution_count": null,
      "metadata": {
        "colab": {
          "base_uri": "https://localhost:8080/",
          "height": 398
        },
        "id": "_oP5h6FO9QZC",
        "outputId": "4373dd74-cd23-4f00-ec28-b6595fb33133"
      },
      "outputs": [
        {
          "name": "stderr",
          "output_type": "stream",
          "text": [
            "C:\\Users\\Asus\\AppData\\Local\\Temp\\ipykernel_8996\\2490196129.py:11: FutureWarning: The default value of numeric_only in DataFrame.corr is deprecated. In a future version, it will default to False. Select only valid columns or specify the value of numeric_only to silence this warning.\n",
            "  corr_matrix = data.corr()\n"
          ]
        }
      ],
      "source": [
        "# Load the network traffic data\n",
        "data = pd.read_csv('combined_data.csv')\n",
        "\n",
        "# Preprocess the data\n",
        "le = LabelEncoder()\n",
        "label=le.fit_transform(data['Protocol'])\n",
        "data['Protocol']=label\n",
        "data = data.drop(data.columns[0], axis=1)\n",
        "data.describe()\n",
        "data=data.dropna()\n",
        "corr_matrix = data.corr()\n",
        "corr_matrix\n",
        "X = data[['Time','Protocol','Length']]\n",
        "y = data['Target']\n",
        "rf = RandomForestRegressor(n_estimators=100, random_state=42)\n",
        "rf.fit(X, y)\n",
        "importances = rf.feature_importances_\n",
        "indices = sorted(range(len(importances)), key=lambda i: importances[i], reverse=True)\n",
        "\n",
        "X=data[['Time','Length']]\n",
        "scaler = StandardScaler()\n",
        "X_scaled = scaler.fit_transform(X)\n",
        "X_scaled\n",
        "X\n",
        "y\n",
        "X_train,X_test,y_train,y_test= train_test_split(X,y,random_state=42,train_size=0.8)\n",
        "X_train = np.asarray(X_train)\n",
        "X_test= np.asarray(X_test)\n",
        "y_train=np.asarray(y_train)\n",
        "y_test=np.asarray(y_test)"
      ]
    },
    {
      "cell_type": "code",
      "execution_count": null,
      "metadata": {
        "id": "n_exlbKgxCRu",
        "outputId": "acadf8f6-cd04-4569-f721-076aa7f03daf"
      },
      "outputs": [
        {
          "name": "stdout",
          "output_type": "stream",
          "text": [
            "Epoch 1/3\n",
            "7931/7931 [==============================] - 60s 7ms/step - loss: 0.0081\n",
            "Epoch 2/3\n",
            "7931/7931 [==============================] - 57s 7ms/step - loss: 0.0022\n",
            "Epoch 3/3\n",
            "7931/7931 [==============================] - 56s 7ms/step - loss: 0.0020\n",
            "MSE: 0.0014621821868847874\n",
            "Accuracy: 99.85%\n"
          ]
        }
      ],
      "source": [
        "# Reshape the data\n",
        "X_train = np.reshape(X_train, (X_train.shape[0], X_train.shape[1], 1))\n",
        "X_test = np.reshape(X_test, (X_test.shape[0], X_test.shape[1], 1))\n",
        "\n",
        "# Build the model\n",
        "model = Sequential()\n",
        "\n",
        "model.add(LSTM(units=50, return_sequences=True, input_shape=(X_train.shape[1], 1)))\n",
        "model.add(Dropout(0.2))\n",
        "\n",
        "model.add(LSTM(units=50, return_sequences=True))\n",
        "model.add(Dropout(0.2))\n",
        "\n",
        "model.add(LSTM(units=50, return_sequences=True))\n",
        "model.add(Dropout(0.2))\n",
        "\n",
        "model.add(LSTM(units=50))\n",
        "model.add(Dropout(0.2))\n",
        "\n",
        "model.add(Dense(units=1))\n",
        "\n",
        "# Compile the model\n",
        "model.compile(optimizer='adam', loss='mean_squared_error')\n",
        "\n",
        "# Train the model\n",
        "model.fit(X_train, y_train, epochs=3, batch_size=32)\n",
        "\n",
        "# Make predictions\n",
        "y_pred = model.predict(X_test)\n",
        "\n",
        "# Evaluate the model\n",
        "from sklearn.metrics import mean_squared_error\n",
        "mse = mean_squared_error(y_test, y_pred)\n",
        "print('MSE:', mse)\n",
        "threshold = 0.5\n",
        "\n",
        "# Convert predicted values to binary classification\n",
        "y_pred_binary = (y_pred >= threshold).astype(int)\n",
        "\n",
        "# Convert actual values to binary classification\n",
        "y_test_binary = (y_test >= threshold).astype(int)\n",
        "\n",
        "# Calculate accuracy\n",
        "from sklearn.metrics import accuracy_score\n",
        "accuracy = accuracy_score(y_test_binary, y_pred_binary)\n",
        "\n",
        "print(\"Accuracy: {:.2f}%\".format(accuracy * 100))"
      ]
    }
  ],
  "metadata": {
    "colab": {
      "provenance": []
    },
    "kernelspec": {
      "display_name": "Python 3",
      "name": "python3"
    },
    "language_info": {
      "codemirror_mode": {
        "name": "ipython",
        "version": 3
      },
      "file_extension": ".py",
      "mimetype": "text/x-python",
      "name": "python",
      "nbconvert_exporter": "python",
      "pygments_lexer": "ipython3",
      "version": "3.10.0"
    }
  },
  "nbformat": 4,
  "nbformat_minor": 0
}